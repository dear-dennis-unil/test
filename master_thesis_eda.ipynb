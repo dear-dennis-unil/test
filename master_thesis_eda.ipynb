{
 "cells": [
  {
   "cell_type": "code",
   "execution_count": 0,
   "metadata": {
    "application/vnd.databricks.v1+cell": {
     "cellMetadata": {
      "byteLimit": 2048000,
      "rowLimit": 10000
     },
     "collapsed": true,
     "inputWidgets": {},
     "nuid": "f18a0f7b-4ad5-47f9-bdb6-484652880469",
     "showTitle": false,
     "tableResultSettingsMap": {},
     "title": ""
    }
   },
   "outputs": [],
   "source": [
    "%pip install kaleido --trusted-host pypi.org --trusted-host pypi.python.org --trusted-host files.pythonhosted.org\n",
    "%pip install tabulate --trusted-host pypi.org --trusted-host pypi.python.org --trusted-host files.pythonhosted.org"
   ]
  },
  {
   "cell_type": "code",
   "execution_count": 0,
   "metadata": {
    "application/vnd.databricks.v1+cell": {
     "cellMetadata": {
      "byteLimit": 2048000,
      "rowLimit": 10000
     },
     "inputWidgets": {},
     "nuid": "d1299200-71d4-4aaa-b07b-404fbcea9135",
     "showTitle": true,
     "tableResultSettingsMap": {},
     "title": "0.0 Importing libraries"
    }
   },
   "outputs": [],
   "source": [
    "# Importing libraries\n",
    "import pyspark\n",
    "import pyspark.sql.functions as F\n",
    "import numpy as np\n",
    "import pandas as pd\n",
    "import matplotlib.pyplot as plt\n",
    "import seaborn as sns\n",
    "import plotly.express as px\n",
    "import plotly.figure_factory as ff"
   ]
  },
  {
   "cell_type": "code",
   "execution_count": 0,
   "metadata": {
    "application/vnd.databricks.v1+cell": {
     "cellMetadata": {
      "byteLimit": 2048000,
      "rowLimit": 10000
     },
     "inputWidgets": {},
     "nuid": "1a1c57d1-501d-47a9-a489-17f765840071",
     "showTitle": false,
     "tableResultSettingsMap": {},
     "title": ""
    }
   },
   "outputs": [],
   "source": [
    "# Number formatting\n",
    "pd.set_option('display.float_format', '{:.2f}'.format)"
   ]
  },
  {
   "cell_type": "code",
   "execution_count": 0,
   "metadata": {
    "application/vnd.databricks.v1+cell": {
     "cellMetadata": {
      "byteLimit": 2048000,
      "rowLimit": 10000
     },
     "inputWidgets": {},
     "nuid": "b3cda6d1-c5da-476a-9ec8-f7a633e6368d",
     "showTitle": true,
     "tableResultSettingsMap": {},
     "title": "0.1 Importing data"
    }
   },
   "outputs": [],
   "source": [
    "df = pd.read_parquet('/Workspace/Users/daguilarromero@scor.com/Data_science_project/01-data/df.parquet')\n",
    "\n",
    "# Filtering data\n",
    "#pr_df_raw = df.query('uw_year == 2023')\n",
    "pr_df_raw = df\n"
   ]
  },
  {
   "cell_type": "code",
   "execution_count": 0,
   "metadata": {
    "application/vnd.databricks.v1+cell": {
     "cellMetadata": {
      "byteLimit": 2048000,
      "rowLimit": 10000
     },
     "inputWidgets": {},
     "nuid": "0115818d-0cc8-4784-b2bc-1aed1001c460",
     "showTitle": true,
     "tableResultSettingsMap": {},
     "title": "1.0 Summary of data structure"
    }
   },
   "outputs": [],
   "source": [
    "# 1.0 Summary of data structure\n",
    "\n",
    "# 1.1 n rows\n",
    "print('Number of rows :', pr_df_raw.shape[0])\n",
    "\n",
    "# 1.2 n columns\n",
    "print('Number of columns:', pr_df_raw.shape[1])\n",
    "\n",
    "# 1.3 Column type frequency df\n",
    "print(pr_df_raw.dtypes.value_counts())\n",
    "\n"
   ]
  },
  {
   "cell_type": "markdown",
   "metadata": {
    "application/vnd.databricks.v1+cell": {
     "cellMetadata": {
      "byteLimit": 2048000,
      "rowLimit": 10000
     },
     "inputWidgets": {},
     "nuid": "75dee344-9967-4980-afd7-d6c4505927ea",
     "showTitle": false,
     "tableResultSettingsMap": {},
     "title": ""
    }
   },
   "source": [
    "##### 2.0 NA Values"
   ]
  },
  {
   "cell_type": "code",
   "execution_count": 0,
   "metadata": {
    "application/vnd.databricks.v1+cell": {
     "cellMetadata": {
      "byteLimit": 2048000,
      "rowLimit": 10000
     },
     "collapsed": true,
     "inputWidgets": {},
     "nuid": "0fb66076-000f-4023-b62d-93e6f792f4d9",
     "showTitle": true,
     "tableResultSettingsMap": {},
     "title": "2.0 NA values"
    }
   },
   "outputs": [],
   "source": [
    "na_summary = (\n",
    "    pd.DataFrame({'column_name': pr_df_raw.columns, 'na_n': pr_df_raw.apply(lambda x: sum(x.isnull()))})\n",
    "    .query('na_n > 0')\n",
    "    .sort_values('na_n', ascending=False)\n",
    "    .assign(na_pct = lambda x: round(x.na_n / pr_df_raw.shape[0], 4))\n",
    ")\n",
    "\n",
    "display(na_summary)\n"
   ]
  },
  {
   "cell_type": "code",
   "execution_count": 0,
   "metadata": {
    "application/vnd.databricks.v1+cell": {
     "cellMetadata": {
      "byteLimit": 2048000,
      "rowLimit": 10000
     },
     "inputWidgets": {},
     "nuid": "3fd0705c-a68b-4635-a8ca-7d6d410ad71d",
     "showTitle": true,
     "tableResultSettingsMap": {},
     "title": "2.1 Dropping columns consisting of more than 20% NA values."
    }
   },
   "outputs": [],
   "source": [
    "# Dropping columns with na_pct > threshold\n",
    "threshold = 0.2\n",
    "cols_to_drop_bc_na = na_summary.query(f'na_pct > {threshold}').column_name.to_list()\n",
    "pr_df = pr_df_raw.drop(cols_to_drop_bc_na, axis=1)\n",
    "\n",
    "print(f'Number of columns dropped bc of na_pct > {threshold} :', len(cols_to_drop_bc_na), 'columns')"
   ]
  },
  {
   "cell_type": "code",
   "execution_count": 0,
   "metadata": {
    "application/vnd.databricks.v1+cell": {
     "cellMetadata": {
      "byteLimit": 2048000,
      "rowLimit": 10000
     },
     "inputWidgets": {},
     "nuid": "a2e85d4d-3325-44fb-8ed5-85e1e937f255",
     "showTitle": false,
     "tableResultSettingsMap": {},
     "title": ""
    }
   },
   "outputs": [],
   "source": [
    "print(pr_df.dtypes.value_counts())"
   ]
  },
  {
   "cell_type": "code",
   "execution_count": 0,
   "metadata": {
    "application/vnd.databricks.v1+cell": {
     "cellMetadata": {
      "byteLimit": 2048000,
      "rowLimit": 10000
     },
     "inputWidgets": {},
     "nuid": "5616b5e6-38cf-4c9e-99da-a378b46af2b3",
     "showTitle": false,
     "tableResultSettingsMap": {},
     "title": ""
    }
   },
   "outputs": [],
   "source": [
    "categorical_columns = [\n",
    "    'ri_region',\n",
    "    'ri_area',\n",
    "    'geo_level',\n",
    "    'reporting_country', \n",
    "    'lobn2',\n",
    "    'lobn1',\n",
    "    'per_event', \n",
    "    'per_risk', \n",
    "  #  'earned_premium',\n",
    "  #  'retention',\n",
    "  #  'limit',\n",
    "  #  'ultimate_amount',\n",
    "  #  'log_ultimate_amount'\n",
    "    ]\n",
    "\n",
    "print(pr_df.get(categorical_columns).describe(percentiles = [0.10, 0.25, 0.5, 0.75, 0.99]).to_markdown(floatfmt='.2f'))"
   ]
  },
  {
   "cell_type": "code",
   "execution_count": 0,
   "metadata": {
    "application/vnd.databricks.v1+cell": {
     "cellMetadata": {
      "byteLimit": 2048000,
      "rowLimit": 10000
     },
     "inputWidgets": {},
     "nuid": "caaeaea6-9d23-4c74-a8f6-dc149d5090dc",
     "showTitle": true,
     "tableResultSettingsMap": {},
     "title": "ri_region"
    }
   },
   "outputs": [],
   "source": [
    "# Boxplots for Log Ultimate Amount by lobn1 and colored by Main Nature\n",
    "(\n",
    "    px.box(data_frame = pr_df, x = 'ri_region', y = 'ultimate_amount')\n",
    "    .update_xaxes(matches = None, tickangle=270)\n",
    "    .update_layout(\n",
    "        title_text= f'Boxplots for Ultimate Amount by Reinsurance region', # title of plot\n",
    "        xaxis_title_text='Reinsurance region', # xaxis label\n",
    "        yaxis_title_text='Ultimate Amount')\n",
    "    )"
   ]
  },
  {
   "cell_type": "code",
   "execution_count": 0,
   "metadata": {
    "application/vnd.databricks.v1+cell": {
     "cellMetadata": {
      "byteLimit": 2048000,
      "rowLimit": 10000
     },
     "inputWidgets": {},
     "nuid": "e0629411-f27e-4714-b820-0667a7ed9230",
     "showTitle": true,
     "tableResultSettingsMap": {},
     "title": "ri_area"
    }
   },
   "outputs": [],
   "source": [
    "# Boxplots for Log Ultimate Amount by lobn1 and colored by Main Nature\n",
    "(\n",
    "    px.box(data_frame = pr_df, x = 'ri_area', y = 'ultimate_amount')\n",
    "    .update_xaxes(matches = None, tickangle=270)\n",
    "    .update_layout(\n",
    "        title_text= f'Boxplots for Ultimate Amount by Reinsurance area', # title of plot\n",
    "        xaxis_title_text='Reinsurance area', # xaxis label\n",
    "        yaxis_title_text='Ultimate Amount')\n",
    "    )"
   ]
  },
  {
   "cell_type": "code",
   "execution_count": 0,
   "metadata": {
    "application/vnd.databricks.v1+cell": {
     "cellMetadata": {
      "byteLimit": 2048000,
      "rowLimit": 10000
     },
     "inputWidgets": {},
     "nuid": "42db3d2f-6102-45bd-a085-78924a61d3ea",
     "showTitle": true,
     "tableResultSettingsMap": {},
     "title": "geo_level"
    }
   },
   "outputs": [],
   "source": [
    "# Boxplots for Log Ultimate Amount by lobn1 and colored by Main Nature\n",
    "(\n",
    "    px.box(data_frame = pr_df, x = 'geo_level', y = 'ultimate_amount')\n",
    "    .update_xaxes(matches = None, tickangle=270)\n",
    "    .update_layout(\n",
    "        title_text= f'Boxplots for Ultimate Amount by Geographic level', # title of plot\n",
    "        xaxis_title_text='Geographic level', # xaxis label\n",
    "        yaxis_title_text='Ultimate Amount')\n",
    "    )"
   ]
  },
  {
   "cell_type": "code",
   "execution_count": 0,
   "metadata": {
    "application/vnd.databricks.v1+cell": {
     "cellMetadata": {
      "byteLimit": 2048000,
      "rowLimit": 10000
     },
     "inputWidgets": {},
     "nuid": "982b860f-7d9f-4b50-8ddb-25c2d24b355a",
     "showTitle": true,
     "tableResultSettingsMap": {},
     "title": "lobn2"
    }
   },
   "outputs": [],
   "source": [
    "# Boxplots for Log Ultimate Amount by lobn1 and colored by Main Nature\n",
    "(\n",
    "    px.box(data_frame = pr_df, x = 'lobn2', y = 'ultimate_amount')\n",
    "    .update_xaxes(matches = None, tickangle=270)\n",
    "    .update_layout(\n",
    "        title_text= f'Boxplots for Ultimate Amount by Line of business level 2', # title of plot\n",
    "        xaxis_title_text='Line of business level 2', # xaxis label\n",
    "        yaxis_title_text='Ultimate Amount')\n",
    "    )"
   ]
  },
  {
   "cell_type": "code",
   "execution_count": 0,
   "metadata": {
    "application/vnd.databricks.v1+cell": {
     "cellMetadata": {
      "byteLimit": 2048000,
      "rowLimit": 10000
     },
     "inputWidgets": {},
     "nuid": "af60c8f0-3c19-44c6-9b6a-7fae7cdf0866",
     "showTitle": true,
     "tableResultSettingsMap": {},
     "title": "lobn1"
    }
   },
   "outputs": [],
   "source": [
    "# Boxplots for Log Ultimate Amount by lobn1 and colored by Main Nature\n",
    "(\n",
    "    px.box(data_frame = pr_df, x = 'lobn1', y = 'ultimate_amount')\n",
    "    .update_xaxes(matches = None, tickangle=270)\n",
    "    .update_layout(\n",
    "        title_text= f'Boxplots for Ultimate Amount by Line of business level 1', # title of plot\n",
    "        xaxis_title_text='Line of business level 1', # xaxis label\n",
    "        yaxis_title_text='Ultimate Amount')\n",
    "    )"
   ]
  },
  {
   "cell_type": "code",
   "execution_count": 0,
   "metadata": {
    "application/vnd.databricks.v1+cell": {
     "cellMetadata": {
      "byteLimit": 2048000,
      "rowLimit": 10000
     },
     "inputWidgets": {},
     "nuid": "6cd8064e-1392-40a7-91e2-1443422477de",
     "showTitle": true,
     "tableResultSettingsMap": {},
     "title": "per_event"
    }
   },
   "outputs": [],
   "source": [
    "# Boxplots for Log Ultimate Amount by lobn1 and colored by Main Nature\n",
    "(\n",
    "    px.box(data_frame = pr_df, x = 'per_event', y = 'ultimate_amount')\n",
    "    .update_xaxes(matches = None, tickangle=270)\n",
    "    .update_layout(\n",
    "        title_text= f'Boxplots for Ultimate Amount by Per event category', # title of plot\n",
    "        xaxis_title_text='Per event category', # xaxis label\n",
    "        yaxis_title_text='Ultimate Amount')\n",
    "    )"
   ]
  },
  {
   "cell_type": "code",
   "execution_count": 0,
   "metadata": {
    "application/vnd.databricks.v1+cell": {
     "cellMetadata": {
      "byteLimit": 2048000,
      "rowLimit": 10000
     },
     "inputWidgets": {},
     "nuid": "92ad04f1-094f-46b0-b8a0-b3abe062ba95",
     "showTitle": true,
     "tableResultSettingsMap": {},
     "title": "per_risk"
    }
   },
   "outputs": [],
   "source": [
    "# Boxplots for Log Ultimate Amount by lobn1 and colored by Main Nature\n",
    "(\n",
    "    px.box(data_frame = pr_df, x = 'per_risk', y = 'ultimate_amount')\n",
    "    .update_xaxes(matches = None, tickangle=270)\n",
    "    .update_layout(\n",
    "        title_text= f'Boxplots for Ultimate Amount by Per Risk', # title of plot\n",
    "        xaxis_title_text='Per risk category', # xaxis label\n",
    "        yaxis_title_text='Ultimate Amount')\n",
    "    )"
   ]
  },
  {
   "cell_type": "code",
   "execution_count": 0,
   "metadata": {
    "application/vnd.databricks.v1+cell": {
     "cellMetadata": {
      "byteLimit": 2048000,
      "rowLimit": 10000
     },
     "inputWidgets": {},
     "nuid": "11f6ceb6-78ae-4345-9c04-9b5786181f7c",
     "showTitle": false,
     "tableResultSettingsMap": {},
     "title": ""
    }
   },
   "outputs": [],
   "source": [
    "numerical_columns = [\n",
    "    'earned_premium',\n",
    "    'retention',\n",
    "    'limit',\n",
    "    'ultimate_amount'\n",
    "    ]\n",
    "\n",
    "print(pr_df.get(numerical_columns).describe(percentiles = [0.10, 0.25, 0.5, 0.75, 0.99]).to_markdown(floatfmt='.2f'))"
   ]
  },
  {
   "cell_type": "code",
   "execution_count": 0,
   "metadata": {
    "application/vnd.databricks.v1+cell": {
     "cellMetadata": {
      "byteLimit": 2048000,
      "rowLimit": 10000
     },
     "inputWidgets": {},
     "nuid": "37621383-edb6-4644-9c64-02b5677d19d5",
     "showTitle": false,
     "tableResultSettingsMap": {},
     "title": ""
    }
   },
   "outputs": [],
   "source": [
    "# Density distributions all years\n",
    "x_groups = ['earned_premium', 'retention' , 'limit' ,'ultimate_amount']\n",
    "x = [pr_df.get(i) for i in x_groups]\n",
    "\n",
    "(\n",
    "    ff.create_distplot(x, x_groups, bin_size=0.1)\n",
    "    .update_layout(\n",
    "        title='Density distributions for numerical columns',\n",
    "        template = 'none')\n",
    ")\n"
   ]
  },
  {
   "cell_type": "code",
   "execution_count": 0,
   "metadata": {
    "application/vnd.databricks.v1+cell": {
     "cellMetadata": {
      "byteLimit": 2048000,
      "rowLimit": 10000
     },
     "inputWidgets": {},
     "nuid": "53bb748a-a7b8-4472-90aa-bb27aeab8192",
     "showTitle": true,
     "tableResultSettingsMap": {},
     "title": "earned_premium and ultimate_amount"
    }
   },
   "outputs": [],
   "source": [
    "x_groups = ['earned_premium','ultimate_amount']\n",
    "numeric_dfs = [pr_df.get([f'{i}']).assign(type = f'{i}').rename(columns={f'{i}':'value'}) for i in x_groups]\n",
    "\n",
    "numeric_df = pd.concat(numeric_dfs, axis=0)\n",
    "\n",
    "\n",
    "px.histogram(numeric_df, x='value', nbins=1000, color = 'type', marginal='box', histnorm='probability density', barmode='overlay')"
   ]
  },
  {
   "cell_type": "code",
   "execution_count": 0,
   "metadata": {
    "application/vnd.databricks.v1+cell": {
     "cellMetadata": {
      "byteLimit": 2048000,
      "rowLimit": 10000
     },
     "inputWidgets": {},
     "nuid": "ef04144e-5030-4baa-9bfa-0e177945284b",
     "showTitle": true,
     "tableResultSettingsMap": {},
     "title": "retention and limit"
    }
   },
   "outputs": [],
   "source": [
    "x_groups = ['retention','limit']\n",
    "numeric_dfs = [pr_df.get([f'{i}']).assign(type = f'{i}').rename(columns={f'{i}':'value'}) for i in x_groups]\n",
    "\n",
    "numeric_df = pd.concat(numeric_dfs, axis=0)\n",
    "\n",
    "\n",
    "px.histogram(numeric_df, x='value', nbins=1000, color = 'type', marginal='box', histnorm='probability density', barmode='overlay')"
   ]
  },
  {
   "cell_type": "code",
   "execution_count": 0,
   "metadata": {
    "application/vnd.databricks.v1+cell": {
     "cellMetadata": {
      "byteLimit": 2048000,
      "rowLimit": 10000
     },
     "inputWidgets": {},
     "nuid": "07abc0c4-98b4-41fb-b4b9-12c43ba7af8b",
     "showTitle": true,
     "tableResultSettingsMap": {},
     "title": "na values"
    }
   },
   "outputs": [],
   "source": [
    "column_names = categorical_columns + numerical_columns\n",
    "pr_df.get(column_names).isnull().sum()\n"
   ]
  },
  {
   "cell_type": "code",
   "execution_count": 0,
   "metadata": {
    "application/vnd.databricks.v1+cell": {
     "cellMetadata": {
      "byteLimit": 2048000,
      "rowLimit": 10000
     },
     "inputWidgets": {},
     "nuid": "52f77734-b5f4-4462-9821-52616272fe4a",
     "showTitle": false,
     "tableResultSettingsMap": {},
     "title": ""
    }
   },
   "outputs": [],
   "source": []
  },
  {
   "cell_type": "code",
   "execution_count": 0,
   "metadata": {
    "application/vnd.databricks.v1+cell": {
     "cellMetadata": {
      "byteLimit": 2048000,
      "rowLimit": 10000
     },
     "inputWidgets": {},
     "nuid": "986fa1d7-f0c2-4b6d-bb62-786ce0b453f8",
     "showTitle": false,
     "tableResultSettingsMap": {},
     "title": ""
    }
   },
   "outputs": [],
   "source": [
    "# Density distributions all years\n",
    "x_groups = ['earned_premium']\n",
    "x = [pr_df.get(i) for i in x_groups]\n",
    "\n",
    "(\n",
    "    ff.create_distplot(x, x_groups)\n",
    "    .update_layout(\n",
    "        title='Density distributions for numerical columns',\n",
    "        template = 'none')\n",
    ")\n"
   ]
  },
  {
   "cell_type": "markdown",
   "metadata": {
    "application/vnd.databricks.v1+cell": {
     "cellMetadata": {
      "byteLimit": 2048000,
      "rowLimit": 10000
     },
     "inputWidgets": {},
     "nuid": "70d1aa80-7d0e-4567-964c-af17d79d119d",
     "showTitle": false,
     "tableResultSettingsMap": {},
     "title": ""
    }
   },
   "source": [
    "##### NEW"
   ]
  },
  {
   "cell_type": "code",
   "execution_count": 0,
   "metadata": {
    "application/vnd.databricks.v1+cell": {
     "cellMetadata": {
      "byteLimit": 2048000,
      "rowLimit": 10000
     },
     "inputWidgets": {},
     "nuid": "dd7d8ab6-4025-4670-a36d-3a033c0efe66",
     "showTitle": false,
     "tableResultSettingsMap": {},
     "title": ""
    }
   },
   "outputs": [],
   "source": [
    "# Transforming columns to 100 percent share\n",
    "numeric_columns = ['incurred_amount',\n",
    "                   'ultimate_amount',\n",
    "                   'loss_reserve_amount',\n",
    "                   'paid_amount',\n",
    "                   'egpi',\n",
    "                   'total_charges',\n",
    "                   'cls_total_charges_orig',\n",
    "                   'earned_premium',\n",
    "                   'cls_total_incurred',\n",
    "                   'expected_loss',             # pricing\n",
    "                   'expected_premium',          # pricing\n",
    "                   'external_expenses',         # pricing\n",
    "                   'allocated_capital',         # pricing\n",
    "                   'pricing_internal_costs',    # pricing\n",
    "                   'expected_natcat_loss',      # pricing\n",
    "                   'exp_shortfall_loss',        # pricing\n",
    "                   'cat_inc',                   # pricing maybe\n",
    "                   'nonnatcat_inc',\n",
    "                   'earned_premium_omega',\n",
    "                   'total_charges_omega',\n",
    "                   'ultimate_amount_omega',\n",
    "                   'incurred_amount_omega']\n",
    "\n",
    "\n",
    "\n",
    "columns_to_select = (\n",
    "    ['ceded_share', 'our_share'] + \n",
    "    [item for col in numeric_columns for item in [col, f'{col}_100', f'log_{col}_100']] + \n",
    "    ['retention', 'limit']\n",
    ")"
   ]
  },
  {
   "cell_type": "code",
   "execution_count": 0,
   "metadata": {
    "application/vnd.databricks.v1+cell": {
     "cellMetadata": {
      "byteLimit": 2048000,
      "rowLimit": 10000
     },
     "inputWidgets": {},
     "nuid": "4fd9d62e-25bd-429e-b236-10874d11df45",
     "showTitle": false,
     "tableResultSettingsMap": {},
     "title": ""
    }
   },
   "outputs": [],
   "source": [
    "# Density distributions all years\n",
    "x_groups = [ 'earned_premium', 'retention' , 'limit' ,'ultimate_amount']\n",
    "x = [pr_df.get(i) for i in x_groups]\n",
    "\n",
    "\n",
    "\n",
    "(\n",
    "    ff.create_distplot(x, x_groups, bin_size=0.1)\n",
    "    .update_layout(\n",
    "        title='Density distributions for log earned premiums, ultimate amount and retention  <br><sup> Note: Notice how the \"_100\" values shift to the right, closer to retention </sup>',\n",
    "        template = 'none')\n",
    ")\n"
   ]
  },
  {
   "cell_type": "code",
   "execution_count": 0,
   "metadata": {
    "application/vnd.databricks.v1+cell": {
     "cellMetadata": {
      "byteLimit": 2048000,
      "rowLimit": 10000
     },
     "inputWidgets": {},
     "nuid": "1ac64043-d67e-413e-bc4e-1b05e2972018",
     "showTitle": false,
     "tableResultSettingsMap": {},
     "title": ""
    }
   },
   "outputs": [],
   "source": [
    "# Density distributions all years\n",
    "x_groups = ['log_retention', 'log_ultimate_amount_100', 'log_ultimate_amount', 'log_earned_premium', 'log_earned_premium_100']\n",
    "x = [pr_df.query(f'{i} > 0').get(i).replace([np.inf, -np.inf], np.nan) for i in x_groups]\n",
    "\n",
    "\n",
    "\n",
    "(\n",
    "    ff.create_distplot(x, x_groups, bin_size=0.1)\n",
    "    .update_layout(\n",
    "        title='Density distributions for log earned premiums, ultimate amount and retention  <br><sup> Note: Notice how the \"_100\" values shift to the right, closer to retention </sup>',\n",
    "        template = 'none')\n",
    ")\n",
    "\n"
   ]
  },
  {
   "cell_type": "code",
   "execution_count": 0,
   "metadata": {
    "application/vnd.databricks.v1+cell": {
     "cellMetadata": {
      "byteLimit": 2048000,
      "rowLimit": 10000
     },
     "inputWidgets": {},
     "nuid": "9752149a-358c-469c-a12e-c72255969be0",
     "showTitle": false,
     "tableResultSettingsMap": {},
     "title": ""
    }
   },
   "outputs": [],
   "source": [
    "# Density distributions by year \n",
    "years_list = list(range(2023, 2024))\n",
    "numeric_columns = ['log_earned_premium_100']\n",
    "\n",
    "x = [pr_df.query(f'uw_year == {i}').get(j).replace([np.inf, -np.inf], np.nan) for i in years_list for j in numeric_columns]\n",
    "x_groups = [f'{i}_Y{j}' for i in numeric_columns for j in years_list ]\n",
    "\n",
    "colors = ['#34495e', '#2ecc71', '#e74c3c']\n",
    "\n",
    "(\n",
    "    ff.create_distplot(x, x_groups, bin_size=0.1, show_hist=False, colors = colors)\n",
    "    .update_layout(title='Density distributions for LOG earned premium amount by year')\n",
    "    )"
   ]
  },
  {
   "cell_type": "code",
   "execution_count": 0,
   "metadata": {
    "application/vnd.databricks.v1+cell": {
     "cellMetadata": {
      "byteLimit": 2048000,
      "rowLimit": 10000
     },
     "inputWidgets": {},
     "nuid": "68cca15d-09f2-4e95-893e-d6f4adb54616",
     "showTitle": false,
     "tableResultSettingsMap": {},
     "title": ""
    }
   },
   "outputs": [],
   "source": [
    "# Density distributions by year\n",
    "years_list = list(range(2023, 2024))\n",
    "numeric_columns = ['earned_premium_100']\n",
    "x = [pr_df.query(f'uw_year == {i}').get(j).replace([np.inf, -np.inf], np.nan) for i in years_list for j in numeric_columns]\n",
    "x_groups = [f'Year {j}' for j in years_list]\n",
    "\n",
    "colors = ['#34495e', '#2ecc71', '#e74c3c']\n",
    "\n",
    "(\n",
    "    ff.create_distplot(x, x_groups, bin_size=0.1, show_hist=False, colors = colors)\n",
    "    .update_layout(title='Density distributions for earned premium amount by year')\n",
    "    )"
   ]
  },
  {
   "cell_type": "code",
   "execution_count": 0,
   "metadata": {
    "application/vnd.databricks.v1+cell": {
     "cellMetadata": {
      "byteLimit": 2048000,
      "rowLimit": 10000
     },
     "inputWidgets": {},
     "nuid": "6143ad37-6613-4288-9c12-fe150b87fe16",
     "showTitle": false,
     "tableResultSettingsMap": {},
     "title": ""
    }
   },
   "outputs": [],
   "source": [
    "# Density distributions by year\n",
    "years_list = list(range(2023, 2024))\n",
    "numeric_columns = ['egpi']\n",
    "x = [df.query(f'uw_year == {i}').get(j).replace([np.inf, -np.inf], np.nan) for i in years_list for j in numeric_columns]\n",
    "x_groups = [f'Year {j}' for j in years_list]\n",
    "\n",
    "colors = ['#34495e', '#2ecc71', '#e74c3c']\n",
    "\n",
    "(\n",
    "    ff.create_distplot(x, x_groups, bin_size=0.1, show_hist=False, colors = colors)\n",
    "    .update_layout(title='Density distributions for earned premium amount by year')\n",
    "    )"
   ]
  },
  {
   "cell_type": "code",
   "execution_count": 0,
   "metadata": {
    "application/vnd.databricks.v1+cell": {
     "cellMetadata": {
      "byteLimit": 2048000,
      "rowLimit": 10000
     },
     "inputWidgets": {},
     "nuid": "0626370d-8529-455a-9137-29f7e3e7573b",
     "showTitle": false,
     "tableResultSettingsMap": {},
     "title": ""
    }
   },
   "outputs": [],
   "source": [
    "# Density distributions by year\n",
    "years_list = list(range(2023, 2024))\n",
    "numeric_columns = ['log_ultimate_amount_100']\n",
    "x = [df.query(f'uw_year == {i}').get(j).replace([np.inf, -np.inf], np.nan) for i in years_list for j in numeric_columns]\n",
    "x_groups = [f'Year {j}' for i in numeric_columns for j in years_list ]\n",
    "\n",
    "(\n",
    "    ff.create_distplot(x, x_groups, bin_size=0.1, show_hist=False)\n",
    "    .update_layout(title='Density distributions for LOG ultimate amount by year')\n",
    "    )\n"
   ]
  },
  {
   "cell_type": "code",
   "execution_count": 0,
   "metadata": {
    "application/vnd.databricks.v1+cell": {
     "cellMetadata": {
      "byteLimit": 2048000,
      "rowLimit": 10000
     },
     "inputWidgets": {},
     "nuid": "efd76153-255b-4923-a68c-5ecb4c6eadbe",
     "showTitle": false,
     "tableResultSettingsMap": {},
     "title": ""
    }
   },
   "outputs": [],
   "source": [
    "# Density distributions by year\n",
    "years_list = list(range(2023, 2024))\n",
    "numeric_columns = ['ultimate_amount_100']\n",
    "x = [df.query(f'uw_year == {i}').get(j).replace([np.inf, -np.inf], np.nan) for i in years_list for j in numeric_columns]\n",
    "x_groups = [f'{i}_Y{j}' for i in numeric_columns for j in years_list ]\n",
    "\n",
    "(\n",
    "    ff.create_distplot(x, x_groups, bin_size=0.1, show_hist=False)\n",
    "    .update_layout(title='Density distributions for ultimate amount by year')\n",
    "    )\n"
   ]
  },
  {
   "cell_type": "code",
   "execution_count": 0,
   "metadata": {
    "application/vnd.databricks.v1+cell": {
     "cellMetadata": {
      "byteLimit": 2048000,
      "rowLimit": 10000
     },
     "collapsed": true,
     "inputWidgets": {},
     "nuid": "5de3cbbc-7fdc-4768-b658-e8df21038709",
     "showTitle": false,
     "tableResultSettingsMap": {},
     "title": ""
    }
   },
   "outputs": [],
   "source": [
    "# Normalizing columns\n",
    "from sklearn.preprocessing import MinMaxScaler\n",
    "\n",
    "scaler = MinMaxScaler()\n",
    "\n",
    "df_2022 = df.query('uw_year == 2022')\n",
    "df_2023 = df.query('uw_year == 2023')\n",
    "df_2024 = df.query('uw_year == 2024')\n",
    "\n",
    "df_2022[['log_retention_scaled', 'log_ultimate_amount_100_scaled', 'log_earned_premium_100_scaled']] = scaler.fit_transform(df_2022.get(['log_retention', 'log_ultimate_amount_100', 'log_earned_premium_100']))\n",
    "\n",
    "df_2023[['log_retention_scaled', 'log_ultimate_amount_100_scaled', 'log_earned_premium_100_scaled']] = scaler.fit_transform(df_2023.get(['log_retention', 'log_ultimate_amount_100', 'log_earned_premium_100']))\n",
    "\n",
    "df_2024[['log_retention_scaled', 'log_ultimate_amount_100_scaled', 'log_earned_premium_100_scaled']] = scaler.fit_transform(df_2024.get(['log_retention', 'log_ultimate_amount_100', 'log_earned_premium_100']))\n"
   ]
  },
  {
   "cell_type": "code",
   "execution_count": 0,
   "metadata": {
    "application/vnd.databricks.v1+cell": {
     "cellMetadata": {
      "byteLimit": 2048000,
      "rowLimit": 10000
     },
     "collapsed": true,
     "inputWidgets": {},
     "nuid": "a7545742-790a-4af7-83b1-00b94bf29bf0",
     "showTitle": false,
     "tableResultSettingsMap": {},
     "title": ""
    }
   },
   "outputs": [],
   "source": [
    "# Density distributions of scaled columns by year\n",
    "numeric_columns = ['log_retention_scaled', 'log_ultimate_amount_100_scaled', 'log_earned_premium_100_scaled']\n",
    "x = [*[df_2022.get(i) for i in numeric_columns], *[df_2023.get(i) for i in numeric_columns], *[df_2024.get(i) for i in numeric_columns]]\n",
    "\n",
    "x_groups = [f'{i}_{j}'  for j in [2022, 2023, 2024] for i in numeric_columns]\n",
    "\n",
    "ff.create_distplot(x, x_groups, bin_size=0.005)"
   ]
  },
  {
   "cell_type": "code",
   "execution_count": 0,
   "metadata": {
    "application/vnd.databricks.v1+cell": {
     "cellMetadata": {
      "byteLimit": 2048000,
      "rowLimit": 10000
     },
     "collapsed": true,
     "inputWidgets": {},
     "nuid": "28b5ec47-a38f-4184-b1fe-3025975ebd06",
     "showTitle": false,
     "tableResultSettingsMap": {},
     "title": ""
    }
   },
   "outputs": [],
   "source": [
    "df.get(['retention','ultimate_amount_100', 'log_retention','log_ultimate_amount', 'cat_inc', 'nonnatcat_inc']).pipe(display)"
   ]
  },
  {
   "cell_type": "code",
   "execution_count": 0,
   "metadata": {
    "application/vnd.databricks.v1+cell": {
     "cellMetadata": {
      "byteLimit": 2048000,
      "rowLimit": 10000
     },
     "inputWidgets": {},
     "nuid": "cdb82d2b-f288-419d-93b8-fadf5d7571cf",
     "showTitle": false,
     "tableResultSettingsMap": {},
     "title": ""
    }
   },
   "outputs": [],
   "source": [
    "# Summary of numeric columns\n",
    "pd.set_option('display.float_format', lambda x: '%.3f' % x)\n",
    "\n",
    "these_numeric_columns = [\n",
    "    'ultimate_amount', \n",
    "  #  'total_charges', \n",
    "    'earned_premium',  \n",
    "    'loss_ratio',\n",
    "    'underwriting_ratio',\n",
    "    'log_ultimate_amount',\n",
    "    'log_earned_premium', \n",
    "    'log_ultimate_amount_100',\n",
    "    'log_earned_premium_100', \n",
    "    'log_loss_ratio',\n",
    "    'log_retention',\n",
    "]\n",
    "\n",
    "(\n",
    "    pr_df\n",
    "    .get([*these_numeric_columns])\n",
    "    .describe(percentiles = [0.10, 0.25, 0.5, 0.75, 0.99])\n",
    ")\n"
   ]
  },
  {
   "cell_type": "markdown",
   "metadata": {
    "application/vnd.databricks.v1+cell": {
     "cellMetadata": {
      "byteLimit": 2048000,
      "rowLimit": 10000
     },
     "inputWidgets": {},
     "nuid": "7332a6cb-25c8-4f4d-bf54-98bf5c1b50cb",
     "showTitle": false,
     "tableResultSettingsMap": {},
     "title": ""
    }
   },
   "source": [
    "##### 3.0 Ultimate amount EDA"
   ]
  },
  {
   "cell_type": "code",
   "execution_count": 0,
   "metadata": {
    "application/vnd.databricks.v1+cell": {
     "cellMetadata": {
      "byteLimit": 2048000,
      "rowLimit": 10000
     },
     "inputWidgets": {},
     "nuid": "52ba5af0-f86d-4e23-9bf2-efd37ebec4f5",
     "showTitle": false,
     "tableResultSettingsMap": {},
     "title": ""
    }
   },
   "outputs": [],
   "source": [
    "# 'Histogram of Ultimate Amount\n",
    "fig = (\n",
    "    px.histogram(pr_df, x='ultimate_amount', color='uw_year', barmode ='overlay', opacity =0.8, marginal='box')\n",
    "    .update_layout(\n",
    "        title_text='Histogram of Ultimate Amount', # title of plot\n",
    "        xaxis_title_text='Ultimate amount', # xaxis label\n",
    "        yaxis_title_text='Count',\n",
    "        showlegend=False)\n",
    ")\n",
    "fig.show()"
   ]
  },
  {
   "cell_type": "code",
   "execution_count": 0,
   "metadata": {
    "application/vnd.databricks.v1+cell": {
     "cellMetadata": {
      "byteLimit": 2048000,
      "rowLimit": 10000
     },
     "inputWidgets": {},
     "nuid": "52b6debc-8b52-4c48-ab47-7331482c23c0",
     "showTitle": false,
     "tableResultSettingsMap": {},
     "title": "3.3 Histogram - Ultimate amount"
    }
   },
   "outputs": [],
   "source": [
    "# 'Histogram of Ultimate Amount\n",
    "fig = (\n",
    "    px.histogram(pr_df, x='ultimate_amount', color='uw_year', log_y=True, barmode ='overlay', opacity =0.8, marginal='box')\n",
    "    .update_layout(\n",
    "        title_text=\"Histogram of Ultimate Amount<br><sup>Log scale in y axis</sup>\", # title of plot \n",
    "        xaxis_title_text='Ultimate amount', # xaxis label\n",
    "        yaxis_title_text='Count  (log scale)',\n",
    "        showlegend=False)\n",
    ")\n",
    "fig.show()\n"
   ]
  },
  {
   "cell_type": "code",
   "execution_count": 0,
   "metadata": {
    "application/vnd.databricks.v1+cell": {
     "cellMetadata": {
      "byteLimit": 2048000,
      "rowLimit": 10000
     },
     "inputWidgets": {},
     "nuid": "ea9395f2-c15b-40fd-a623-faaec8b247fd",
     "showTitle": false,
     "tableResultSettingsMap": {},
     "title": ""
    }
   },
   "outputs": [],
   "source": [
    "fig.write_image(\"/Workspace/Users/daguilarromero@scor.com/Data_science_project/master_thesis_files/fig1.svg\")"
   ]
  },
  {
   "cell_type": "code",
   "execution_count": 0,
   "metadata": {
    "application/vnd.databricks.v1+cell": {
     "cellMetadata": {
      "byteLimit": 2048000,
      "rowLimit": 10000
     },
     "inputWidgets": {},
     "nuid": "97b502ae-de6c-41d0-96f0-20247584cc1b",
     "showTitle": true,
     "tableResultSettingsMap": {},
     "title": "3.4 Histogram - Ultimate amount filtered 1"
    }
   },
   "outputs": [],
   "source": [
    "# 'Histogram of Ultimate Amount (After filtering)\n",
    "pr_df_filtered = pr_df.query('ultimate_amount <= 1000000') # 1 million\n",
    "(\n",
    "  px.histogram(pr_df_filtered, x='ultimate_amount', color='uw_year', log_y=True, barmode ='overlay', opacity =0.9, marginal='box')\n",
    "  .update_layout(\n",
    "    title_text='Histogram of Ultimate Amount (After filtering)', # title of plot\n",
    "    xaxis_title_text='Ultimate amount', # xaxis label\n",
    "    yaxis_title_text='Count  (log scale)', \n",
    "    legend_title_text='Underwriting year', \n",
    "    showlegend=False)\n",
    "  )"
   ]
  },
  {
   "cell_type": "code",
   "execution_count": 0,
   "metadata": {
    "application/vnd.databricks.v1+cell": {
     "cellMetadata": {
      "byteLimit": 2048000,
      "rowLimit": 10000
     },
     "inputWidgets": {},
     "nuid": "789e2538-39e6-442b-a6a5-845659e9a670",
     "showTitle": false,
     "tableResultSettingsMap": {},
     "title": ""
    }
   },
   "outputs": [],
   "source": [
    "# Density distribution for Log Ultimate Amount\n",
    "\n",
    "x = [\n",
    "    pr_df.get('log_ultimate_amount_100'),\n",
    "    pr_df.get('log_earned_premium_100')\n",
    "    ]\n",
    "\n",
    "groups = ['log_ultimate_amount', 'log_earned_premium']\n",
    "\n",
    "(\n",
    "    ff.create_distplot(x, groups, bin_size=0.25)\n",
    "    .update_layout(\n",
    "        title_text='Density distribution for Log Ultimate Amount and Log Earned Premium', # title of plot\n",
    "        xaxis_title_text='Log Ultimate amount', # xaxis label\n",
    "        yaxis_title_text='Densities', \n",
    "        legend_title_text='Variable')\n",
    "    )"
   ]
  },
  {
   "cell_type": "code",
   "execution_count": 0,
   "metadata": {
    "application/vnd.databricks.v1+cell": {
     "cellMetadata": {
      "byteLimit": 2048000,
      "rowLimit": 10000
     },
     "inputWidgets": {},
     "nuid": "ec86eee5-5a55-4659-88dc-4aa8d235c8fb",
     "showTitle": false,
     "tableResultSettingsMap": {},
     "title": ""
    }
   },
   "outputs": [],
   "source": [
    "# Creating dataframe that will be used for parallel categories plots\n",
    "pr_df_bins = (\n",
    "    pr_df\n",
    "    .assign(log_ultimate_amount_bins = lambda x: pd.cut(x.log_ultimate_amount, bins=[0,5,6,7,8,9,10,11,12,13,14, 15, x.log_ultimate_amount_100.max()]).astype(str))\n",
    ")"
   ]
  },
  {
   "cell_type": "code",
   "execution_count": 0,
   "metadata": {
    "application/vnd.databricks.v1+cell": {
     "cellMetadata": {
      "byteLimit": 2048000,
      "rowLimit": 10000
     },
     "inputWidgets": {},
     "nuid": "0a862f01-1d0e-40e0-ae35-8f492fd0094d",
     "showTitle": true,
     "tableResultSettingsMap": {},
     "title": "3.6 Parallel categories plot"
    }
   },
   "outputs": [],
   "source": [
    "px.parallel_categories(pr_df_bins.sort_values('log_ultimate_amount_bins'), dimensions=['uw_year', 'ri_region', 'lobn2', 'log_ultimate_amount_bins'])\n"
   ]
  },
  {
   "cell_type": "code",
   "execution_count": 0,
   "metadata": {
    "application/vnd.databricks.v1+cell": {
     "cellMetadata": {
      "byteLimit": 2048000,
      "rowLimit": 10000
     },
     "inputWidgets": {},
     "nuid": "cdff9a19-56f8-43ed-9481-69a3c77de1e3",
     "showTitle": true,
     "tableResultSettingsMap": {},
     "title": "3.8 Boxplots"
    }
   },
   "outputs": [],
   "source": [
    "# Boxplots for Log Ultimate Amount by lobn1 and colored by Main Nature\n",
    "print('Notice how the distributions for Non Prop have lower values')\n",
    "\n",
    "(\n",
    "    px.box(data_frame = pr_df, x = 'lobn2', y = 'log_ultimate_amount')\n",
    "    .update_xaxes(matches = None, tickangle=270)\n",
    "    .update_layout(\n",
    "        title_text= f'Boxplots for Log Ultimate Amount by lobn1 and colored by Main Nature', # title of plot\n",
    "        xaxis_title_text='LobN1', # xaxis label\n",
    "        yaxis_title_text='Log Ultimate Amount')\n",
    "    )\n"
   ]
  },
  {
   "cell_type": "code",
   "execution_count": 0,
   "metadata": {
    "application/vnd.databricks.v1+cell": {
     "cellMetadata": {
      "byteLimit": 2048000,
      "rowLimit": 10000
     },
     "inputWidgets": {},
     "nuid": "a6101f8e-33d8-4824-aba0-a3a907cc8a68",
     "showTitle": false,
     "tableResultSettingsMap": {},
     "title": ""
    }
   },
   "outputs": [],
   "source": [
    "# Boxplots for Log Ultimate Amount by lobn1 and colored by Main Nature\n",
    "print('Notice how the distributions for Non Prop have lower values')\n",
    "\n",
    "(\n",
    "    px.box(data_frame = pr_df, x = 'lobn1', y = 'ultimate_amount')\n",
    "    .update_xaxes(matches = None, tickangle=270)\n",
    "    .update_layout(\n",
    "        title_text= f'Boxplots for Ultimate Amount by lobn1 and colored by Main Nature', # title of plot\n",
    "        xaxis_title_text='LobN1', # xaxis label\n",
    "        yaxis_title_text='Ultimate Amount')\n",
    "    )"
   ]
  },
  {
   "cell_type": "code",
   "execution_count": 0,
   "metadata": {
    "application/vnd.databricks.v1+cell": {
     "cellMetadata": {
      "byteLimit": 2048000,
      "rowLimit": 10000
     },
     "inputWidgets": {},
     "nuid": "4f0f28b9-25dd-48a9-958c-9b44cdd45122",
     "showTitle": true,
     "tableResultSettingsMap": {},
     "title": "3.9 Filtered Boxplots"
    }
   },
   "outputs": [],
   "source": [
    "# Creating dataframe that will be used for FILTERED boxplots\n",
    "\n",
    "x_value = ['lobn2']\n",
    "y_value = 'log_ultimate_amount'\n",
    "these_main_nature_name = ['Non Prop.']\n",
    "by_this_region = pr_df.ri_region.unique()[1]\n",
    "\n",
    "this_data = (\n",
    "    pr_df\n",
    "  #  .query(f'ri_region == \"{by_this_region}\"')\n",
    "    .assign(average = lambda x: x.groupby(x_value).log_ultimate_amount.transform('median'))\n",
    "    .sort_values(['average', 'main_nature_name'])\n",
    "    )\n",
    "\n"
   ]
  },
  {
   "cell_type": "code",
   "execution_count": 0,
   "metadata": {
    "application/vnd.databricks.v1+cell": {
     "cellMetadata": {
      "byteLimit": 2048000,
      "rowLimit": 10000
     },
     "inputWidgets": {},
     "nuid": "b3349790-485c-444b-b96b-365ffcf9e95d",
     "showTitle": false,
     "tableResultSettingsMap": {},
     "title": ""
    }
   },
   "outputs": [],
   "source": [
    "# Boxplots for Log Ultimate Amount by lobn1 and colored by Main Nature\n",
    "\n",
    "(\n",
    "    px.violin(data_frame = this_data, x = x_value, y = 'log_ultimate_amount', points='all')\n",
    "    .update_xaxes(matches = None, tickangle=270)\n",
    "    .update_layout(\n",
    "        title_text= f'Violin plots and points for Log Ultimate Amount by lobn1 and colored by Main Nature for {by_this_region}', # title of plot\n",
    "        xaxis_title_text='Line of Business', # xaxis label\n",
    "        yaxis_title_text='Log Ultimate Amount')\n",
    "    )\n",
    "\n"
   ]
  },
  {
   "cell_type": "code",
   "execution_count": 0,
   "metadata": {
    "application/vnd.databricks.v1+cell": {
     "cellMetadata": {
      "byteLimit": 2048000,
      "rowLimit": 10000
     },
     "inputWidgets": {},
     "nuid": "4568062d-a794-419f-b740-78550b614a4e",
     "showTitle": false,
     "tableResultSettingsMap": {},
     "title": ""
    }
   },
   "outputs": [],
   "source": [
    "(\n",
    "    px.box(data_frame = this_data, x = x_value, y = y_value, color='ri_region')\n",
    "    .update_xaxes(matches = None, tickangle=270)\n",
    "    .update_layout(\n",
    "        title_text='Boxplots for Log Ultimate Amount by Line of Business and colored by Region', # title of plot\n",
    "        xaxis_title_text='Line of Business', # xaxis label\n",
    "        yaxis_title_text='Log Ultimate Amount', \n",
    "        legend_title_text='Region')\n",
    "    )\n"
   ]
  },
  {
   "cell_type": "code",
   "execution_count": 0,
   "metadata": {
    "application/vnd.databricks.v1+cell": {
     "cellMetadata": {
      "byteLimit": 2048000,
      "rowLimit": 10000
     },
     "inputWidgets": {},
     "nuid": "22a7ee84-5154-4ec5-8bb7-7196e1293630",
     "showTitle": false,
     "tableResultSettingsMap": {},
     "title": ""
    }
   },
   "outputs": [],
   "source": [
    "\n",
    "# Boxplots for Log Ultimate Amount by lobn1 and faceted by Main Nature \n",
    "(\n",
    "    px.box(data_frame = this_data, x = x_value, y = y_value)\n",
    "    .update_xaxes(matches = None, tickangle=270)\n",
    "    .update_layout(\n",
    "        title_text='Boxplots for Log Ultimate Amount by lobn1', # title of plot\n",
    "        xaxis_title_text='LobN1', # xaxis label\n",
    "        yaxis_title_text='Log Ultimate Amount')\n",
    "    .for_each_annotation(lambda a: a.update(text=a.text.split(\"=\")[-1]))\n",
    "    )"
   ]
  },
  {
   "cell_type": "code",
   "execution_count": 0,
   "metadata": {
    "application/vnd.databricks.v1+cell": {
     "cellMetadata": {
      "byteLimit": 2048000,
      "rowLimit": 10000
     },
     "inputWidgets": {},
     "nuid": "7d965545-3eaf-4bae-a7b0-fce59104a9fd",
     "showTitle": false,
     "tableResultSettingsMap": {},
     "title": ""
    }
   },
   "outputs": [],
   "source": [
    "df_to_plot = (\n",
    "    pr_df\n",
    " #   .query('log_retention > 5')\n",
    " #   .query('log_retention_plus_limit > 5')\n",
    "    .sample(n = 10, random_state=42)\n",
    "    .assign(omega_contract_and_section = lambda x: x.contract_omega_id.astype(str) + '-' + x.omega_section.astype(str),\n",
    "            retention_plus_limit = lambda x: x.retention + x.limit,\n",
    "            retention_plus_ultimate_amount = lambda x: x.retention + x.ultimate_amount)\n",
    "    .get(['uw_year', 'omega_contract_and_section', 'retention', 'retention_plus_limit', 'retention_plus_ultimate_amount'])\n",
    "    .melt(id_vars = ['uw_year', 'omega_contract_and_section'],\n",
    "          value_vars = ['retention', 'retention_plus_limit', 'retention_plus_ultimate_amount'],\n",
    "          var_name = 'variable', \n",
    "          value_name = 'value')\n",
    ")\n",
    "\n",
    "df_to_plot.variable = pd.Categorical(df_to_plot.variable, \n",
    "                      categories=[ 'retention', 'retention_plus_ultimate_amount', 'retention_plus_limit'],\n",
    "                      ordered=True)\n",
    "\n",
    "df_to_plot =  df_to_plot.sort_values(['variable', 'value'])\n",
    "\n",
    "px.scatter(df_to_plot, x = 'omega_contract_and_section', y='value',color = 'variable', log_y=True)"
   ]
  },
  {
   "cell_type": "code",
   "execution_count": 0,
   "metadata": {
    "application/vnd.databricks.v1+cell": {
     "cellMetadata": {
      "byteLimit": 2048000,
      "rowLimit": 10000
     },
     "inputWidgets": {},
     "nuid": "40511ca9-012f-49ac-b124-feb529c0ea57",
     "showTitle": false,
     "tableResultSettingsMap": {},
     "title": ""
    }
   },
   "outputs": [],
   "source": [
    "df_to_plot = (\n",
    "    pr_df\n",
    " #   .query('log_retention > 5')\n",
    " #   .query('log_retention_plus_limit > 5')\n",
    "    .sample(n = 100, random_state=42)\n",
    "    .assign(omega_contract_and_section = lambda x: x.contract_omega_id.astype(str) + '-' + x.omega_section.astype(str))\n",
    "    .get(['uw_year', 'omega_contract_and_section', 'retention', 'ultimate_amount'])\n",
    "    .melt(id_vars = ['uw_year', 'omega_contract_and_section'],\n",
    "          value_vars = ['retention', 'ultimate_amount'],\n",
    "          var_name = 'variable', \n",
    "          value_name = 'value')\n",
    ")\n",
    "\n",
    "df_to_plot.variable = pd.Categorical(df_to_plot.variable, \n",
    "                      categories=[ 'ultimate_amount', 'retention' ],\n",
    "                      ordered=True)\n",
    "\n",
    "df_to_plot =  df_to_plot.sort_values(['variable', 'value'])\n",
    "\n",
    "px.scatter(df_to_plot, x = 'omega_contract_and_section', y='value',color = 'variable', log_y=True)"
   ]
  },
  {
   "cell_type": "markdown",
   "metadata": {
    "application/vnd.databricks.v1+cell": {
     "cellMetadata": {
      "byteLimit": 2048000,
      "rowLimit": 10000
     },
     "inputWidgets": {},
     "nuid": "90d50a71-6249-4b99-bb5a-861a579f36c0",
     "showTitle": false,
     "tableResultSettingsMap": {},
     "title": ""
    }
   },
   "source": [
    "##### 4.0 Clustering Retention and Limits"
   ]
  },
  {
   "cell_type": "code",
   "execution_count": 0,
   "metadata": {
    "application/vnd.databricks.v1+cell": {
     "cellMetadata": {
      "byteLimit": 2048000,
      "rowLimit": 10000
     },
     "inputWidgets": {},
     "nuid": "c91a59ec-8e6c-46f8-9e39-a005be0ca7b1",
     "showTitle": true,
     "tableResultSettingsMap": {},
     "title": "4.0 Dataframe to cluster"
    }
   },
   "outputs": [],
   "source": [
    "df_to_cluster = (\n",
    "    pr_df\n",
    "    .query('log_earned_premium_100 > 5')\n",
    "    .query('log_retention > 1 ')\n",
    " #   .assign(log_earned_premium = lambda x: np.log(x.earned_premium))\n",
    "   # .sample(n = 1000, random_state=42)\n",
    ")\n",
    "\n",
    "#px.scatter(df_to_cluster, x = 'log_retention', y='log_retention_plus_limit')\n",
    "px.scatter(df_to_cluster, x = 'log_earned_premium_100', y='log_retention', color='log_ultimate_amount')"
   ]
  },
  {
   "cell_type": "code",
   "execution_count": 0,
   "metadata": {
    "application/vnd.databricks.v1+cell": {
     "cellMetadata": {
      "byteLimit": 2048000,
      "rowLimit": 10000
     },
     "inputWidgets": {},
     "nuid": "5974ad3c-ab23-41ac-9d5e-525d147c9955",
     "showTitle": true,
     "tableResultSettingsMap": {},
     "title": "4.1 Sampling the data"
    }
   },
   "outputs": [],
   "source": [
    "from sklearn.model_selection import train_test_split\n",
    "\n",
    "X = df_to_cluster.get(['log_retention', 'log_earned_premium_100'])\n",
    "y = df_to_cluster.log_ultimate_amount\n",
    "\n",
    "X_train, X_test, y_train, y_test = train_test_split(X, y, test_size=0.2, random_state=42)"
   ]
  },
  {
   "cell_type": "code",
   "execution_count": 0,
   "metadata": {
    "application/vnd.databricks.v1+cell": {
     "cellMetadata": {
      "byteLimit": 2048000,
      "rowLimit": 10000
     },
     "inputWidgets": {},
     "nuid": "396658cb-5ac7-465c-9a9c-be508734a930",
     "showTitle": true,
     "tableResultSettingsMap": {},
     "title": "4.2 Normalizing the data"
    }
   },
   "outputs": [],
   "source": [
    "from sklearn import preprocessing\n",
    "\n",
    "X_train_norm = preprocessing.normalize(X_train)\n",
    "X_test_norm = preprocessing.normalize(X_test)"
   ]
  },
  {
   "cell_type": "code",
   "execution_count": 0,
   "metadata": {
    "application/vnd.databricks.v1+cell": {
     "cellMetadata": {
      "byteLimit": 2048000,
      "rowLimit": 10000
     },
     "inputWidgets": {},
     "nuid": "09b02658-44d3-4f85-946d-8d1821edb3d8",
     "showTitle": true,
     "tableResultSettingsMap": {},
     "title": "4.3 k = 3 clusters"
    }
   },
   "outputs": [],
   "source": [
    "from sklearn.cluster import KMeans\n",
    "import seaborn as sns\n",
    "\n",
    "kmeans = KMeans(n_clusters = 3, random_state = 42)\n",
    "kmeans.fit(X_train_norm)\n",
    "\n",
    "sns.scatterplot(data = X_train,  x = 'log_earned_premium_100', y='log_retention', hue = kmeans.labels_)"
   ]
  },
  {
   "cell_type": "code",
   "execution_count": 0,
   "metadata": {
    "application/vnd.databricks.v1+cell": {
     "cellMetadata": {
      "byteLimit": 2048000,
      "rowLimit": 10000
     },
     "inputWidgets": {},
     "nuid": "d124bbaf-21af-4fab-b96d-87ffc5650872",
     "showTitle": false,
     "tableResultSettingsMap": {},
     "title": ""
    }
   },
   "outputs": [],
   "source": [
    "sns.boxplot(x = kmeans.labels_, y = y_train)"
   ]
  },
  {
   "cell_type": "code",
   "execution_count": 0,
   "metadata": {
    "application/vnd.databricks.v1+cell": {
     "cellMetadata": {
      "byteLimit": 2048000,
      "rowLimit": 10000
     },
     "inputWidgets": {},
     "nuid": "79473cf6-a39e-45bf-a0c1-8a855878e890",
     "showTitle": true,
     "tableResultSettingsMap": {},
     "title": "4.4 k cluster iteration"
    }
   },
   "outputs": [],
   "source": [
    "labels_dict = {}\n",
    "sse_dict = {}\n",
    "\n",
    "for k in range(2, 20):\n",
    "    # train the model for current value of k on training data\n",
    "    kmeans =  KMeans(n_clusters = k, random_state = 42).fit(X_train_norm)\n",
    "    \n",
    "    # append the model to fits\n",
    "    labels_dict[k] = kmeans.labels_\n",
    "\n",
    "    # Append the silhouette score to scores\n",
    "    sse_dict[k] = kmeans.inertia_"
   ]
  },
  {
   "cell_type": "code",
   "execution_count": 0,
   "metadata": {
    "application/vnd.databricks.v1+cell": {
     "cellMetadata": {
      "byteLimit": 2048000,
      "rowLimit": 10000
     },
     "inputWidgets": {},
     "nuid": "6c764cef-d692-4f50-b8de-073a97b85044",
     "showTitle": false,
     "tableResultSettingsMap": {},
     "title": ""
    }
   },
   "outputs": [],
   "source": [
    "import matplotlib.pyplot as plt\n",
    "\n",
    "plt.figure()\n",
    "plt.plot(list(sse_dict.keys()), list(sse_dict.values()))\n",
    "plt.xlabel(\"Number of cluster\")\n",
    "plt.ylabel(\"SSE\")\n",
    "plt.show()"
   ]
  },
  {
   "cell_type": "code",
   "execution_count": 0,
   "metadata": {
    "application/vnd.databricks.v1+cell": {
     "cellMetadata": {
      "byteLimit": 2048000,
      "rowLimit": 10000
     },
     "inputWidgets": {},
     "nuid": "3edd6aca-41b4-42c7-afa4-229bf2e19a58",
     "showTitle": true,
     "tableResultSettingsMap": {},
     "title": "4.5 k = 5 clusters"
    }
   },
   "outputs": [],
   "source": [
    "kmeans = KMeans(n_clusters = 5, random_state = 42)\n",
    "kmeans.fit(X_train_norm)\n",
    "\n",
    "\n",
    "(\n",
    "    sns.scatterplot(data = X_train,  x = 'log_earned_premium_100', y='log_retention', hue = kmeans.labels_, palette='Set2')\n",
    "    .set_title(\"k=5 mean clustering for log_retention and log_earned_premium\")\n",
    "\n",
    "    \n",
    "    )"
   ]
  },
  {
   "cell_type": "code",
   "execution_count": 0,
   "metadata": {
    "application/vnd.databricks.v1+cell": {
     "cellMetadata": {
      "byteLimit": 2048000,
      "rowLimit": 10000
     },
     "inputWidgets": {},
     "nuid": "29846818-66f3-4e2d-97d4-b9205595626a",
     "showTitle": false,
     "tableResultSettingsMap": {},
     "title": ""
    }
   },
   "outputs": [],
   "source": [
    "sns.boxplot(x = kmeans.labels_, y = y_train)"
   ]
  },
  {
   "cell_type": "code",
   "execution_count": 0,
   "metadata": {
    "application/vnd.databricks.v1+cell": {
     "cellMetadata": {
      "byteLimit": 2048000,
      "rowLimit": 10000
     },
     "inputWidgets": {},
     "nuid": "037f7432-fff9-4aeb-a153-7b795568273f",
     "showTitle": false,
     "tableResultSettingsMap": {},
     "title": ""
    }
   },
   "outputs": [],
   "source": [
    "df_to_plot = pd.DataFrame({\n",
    "    'log_earned_premium_100': X_train.log_earned_premium_100,\n",
    "    'log_retention': X_train.log_retention,\n",
    " #   'log_retention_plus_limit': X_train.log_retention_plus_limit,\n",
    "    'log_ultimate_amount': y_train,\n",
    "    'cluster': kmeans.labels_\n",
    "})\n",
    "\n",
    "\n",
    "px.scatter(df_to_plot, x = 'log_earned_premium_100', y='log_retention', color = 'cluster')"
   ]
  },
  {
   "cell_type": "markdown",
   "metadata": {
    "application/vnd.databricks.v1+cell": {
     "cellMetadata": {
      "byteLimit": 2048000,
      "rowLimit": 10000
     },
     "inputWidgets": {},
     "nuid": "69296af3-a12e-4d89-9589-ead018570061",
     "showTitle": false,
     "tableResultSettingsMap": {},
     "title": ""
    }
   },
   "source": [
    "##### 5.0 Dataframes of frequency statistics"
   ]
  },
  {
   "cell_type": "code",
   "execution_count": 0,
   "metadata": {
    "application/vnd.databricks.v1+cell": {
     "cellMetadata": {
      "byteLimit": 2048000,
      "rowLimit": 10000
     },
     "inputWidgets": {},
     "nuid": "cdacc27f-4a8e-4b1b-9c80-d8a792f7361c",
     "showTitle": true,
     "tableResultSettingsMap": {},
     "title": "5.0 String columns - Summary statistics - Dictionary creation"
    }
   },
   "outputs": [],
   "source": [
    "# Creating the Dictionary of Dataframes of frequency statistics\n",
    "\n",
    "# list of columns of type string\n",
    "string_type_columns_list = pr_df.select_dtypes('object').columns.tolist()\n",
    "\n",
    "# Dictionary of Dataframes of frequency statistics\n",
    "string_column_frequency_dict = {\n",
    "    col: (\n",
    "        pr_df\n",
    "        .groupby(['uw_year',col], as_index=False)\n",
    "        .agg(n =(f'{col}','count'),\n",
    "             ultimate_amount = ('ultimate_amount','sum'))\n",
    "        .sort_values(['uw_year','n'], ascending=[True, False])\n",
    "        .assign(\n",
    "            n_pct =             lambda x: x.n / x.groupby('uw_year').n.transform('sum'),\n",
    "            n_accumulated_pct = lambda x: x.groupby('uw_year').n_pct.transform('cumsum'),\n",
    "            ult_amount_pct =    lambda x: x.ultimate_amount / x.groupby('uw_year').ultimate_amount.transform('sum'),\n",
    "            ult_amount_accumulated_pct = lambda x: x.groupby('uw_year').ult_amount_pct.transform('cumsum'),\n",
    "            log_ultimate_amount = lambda x: np.log(x.ultimate_amount)\n",
    "            )\n",
    "        .reset_index(drop=True)\n",
    "        .get(['uw_year', col, 'n', 'n_pct', 'n_accumulated_pct', 'ultimate_amount', 'ult_amount_pct', 'ult_amount_accumulated_pct', 'log_ultimate_amount'])\n",
    "    ) \n",
    "    for col in string_type_columns_list\n",
    "}\n"
   ]
  },
  {
   "cell_type": "markdown",
   "metadata": {
    "application/vnd.databricks.v1+cell": {
     "cellMetadata": {
      "byteLimit": 2048000,
      "rowLimit": 10000
     },
     "inputWidgets": {},
     "nuid": "ec31f217-57cc-43a5-9e4c-b27616448a54",
     "showTitle": false,
     "tableResultSettingsMap": {},
     "title": ""
    }
   },
   "source": []
  },
  {
   "cell_type": "code",
   "execution_count": 0,
   "metadata": {
    "application/vnd.databricks.v1+cell": {
     "cellMetadata": {
      "byteLimit": 2048000,
      "rowLimit": 10000
     },
     "inputWidgets": {},
     "nuid": "0f28b813-f1b8-449a-9d99-4922e5cc90dc",
     "showTitle": true,
     "tableResultSettingsMap": {},
     "title": "5.1 String columns - Summary statistics - Printing"
    }
   },
   "outputs": [],
   "source": [
    "# Printing of Dataframes of frequency statistics\n",
    "start = 0\n",
    "end  = 9\n",
    "\n",
    "# 2.3 category frequency for ALL string columns\n",
    "for k in list(string_column_frequency_dict.keys())[start:end]:\n",
    "    # 1.0 Prints index number\n",
    "    print('index number: ', list(string_column_frequency_dict.keys()).index(k)) \n",
    "    # 2.0 Prints number of categories (rows) per categorial column\n",
    "    print('n categories: ', string_column_frequency_dict[k].shape[0])                 \n",
    "    # 3.0 Prints first 20 rows oF frequency table for categorial column\n",
    "    print(string_column_frequency_dict[k].to_string())\n",
    "    print(\"\")               "
   ]
  },
  {
   "cell_type": "markdown",
   "metadata": {
    "application/vnd.databricks.v1+cell": {
     "cellMetadata": {
      "byteLimit": 2048000,
      "rowLimit": 10000
     },
     "inputWidgets": {},
     "nuid": "0a23a832-7b36-4848-9c59-9c9d87aa7514",
     "showTitle": false,
     "tableResultSettingsMap": {},
     "title": ""
    }
   },
   "source": [
    "##### 5.0 Summary of data structure after selecting columns"
   ]
  },
  {
   "cell_type": "code",
   "execution_count": 0,
   "metadata": {
    "application/vnd.databricks.v1+cell": {
     "cellMetadata": {
      "byteLimit": 2048000,
      "rowLimit": 10000
     },
     "inputWidgets": {},
     "nuid": "637f293b-75fe-4954-824e-23006603e1b3",
     "showTitle": false,
     "tableResultSettingsMap": {},
     "title": ""
    }
   },
   "outputs": [],
   "source": [
    "these_columns = [\n",
    "    'primary_key',\n",
    "    'quarter', \n",
    "    'uw_year',\n",
    "    'contract_omega_id',\n",
    "    'omega_section',\n",
    "    'inception_date',\n",
    "    'expiry_date',\n",
    "    'data_type',\n",
    "    'omega_region', \n",
    "    'ri_region',\n",
    "    'ri_area',\n",
    "    'geo_level', \n",
    "    'geon1',\n",
    "    'lobn1',\n",
    "    'lobn2', \n",
    "    'main_nature_name',\n",
    "    'nature_name', \n",
    "    'per_event', \n",
    "    'per_risk', \n",
    "    'omega_group_division_org', \n",
    "    'program_name', \n",
    "    'program_bouquet_contract', \n",
    "    'bouquet_number',\n",
    "   # 'bouquet_name'\n",
    "    'program_bouquet_contract_id', \n",
    "    'company_name', \n",
    "    'reporting_country', \n",
    "    'subsidiary_name', \n",
    "    'lob_name', \n",
    "    'sob_name', \n",
    "    'top_name', \n",
    "    'guarantee', \n",
    "    'accounting_admin_type_label', \n",
    " # 'company_size', \n",
    " 'intermediary_name', \n",
    " 'intermediary_group', \n",
    " 'intermediary_ult_group', \n",
    " 'client_segmentation_assessment', \n",
    " # 'uw_portfolios', \n",
    " 'us_pc_cancelled_flag', \n",
    " 'gcu_flag',\n",
    " 'ultimate_id',\n",
    " 'ledger_name', \n",
    " 'guarantee', \n",
    " 'portfolio_origin',\n",
    " 'ultimate_amount',\n",
    " 'log_ultimate_amount'\n",
    "    ]\n",
    "\n"
   ]
  },
  {
   "cell_type": "code",
   "execution_count": 0,
   "metadata": {
    "application/vnd.databricks.v1+cell": {
     "cellMetadata": {
      "byteLimit": 2048000,
      "rowLimit": 10000
     },
     "inputWidgets": {},
     "nuid": "8a4fd352-318e-4163-81ac-1dea468bdca0",
     "showTitle": true,
     "tableResultSettingsMap": {},
     "title": "5.0 Selecting columns to use before machine learning analysis"
    }
   },
   "outputs": [],
   "source": [
    "\n",
    "pr_df_2 = pr_df.get(these_columns).sort_values(['primary_key'])\n",
    "\n",
    "\n",
    "print(pr_df.dtypes.value_counts())\n",
    "print('')\n",
    "print(pr_df_2.dtypes.value_counts())\n"
   ]
  },
  {
   "cell_type": "code",
   "execution_count": 0,
   "metadata": {
    "application/vnd.databricks.v1+cell": {
     "cellMetadata": {
      "byteLimit": 2048000,
      "rowLimit": 10000
     },
     "inputWidgets": {},
     "nuid": "33145c5d-0271-4942-bdb3-aa1432fd6e22",
     "showTitle": false,
     "tableResultSettingsMap": {},
     "title": ""
    }
   },
   "outputs": [],
   "source": [
    "this_list = ['ri_region', 'ri_area', 'reporting_country']\n",
    "this_list = ['lobn2', 'lobn1']\n",
    "#this_list = ['company_name','subsidiary_name']\n",
    "#this_list = ['per_event', 'per_risk']\n",
    "pr_df.get(this_list).value_counts().reset_index().sort_values(this_list).pipe(display)"
   ]
  },
  {
   "cell_type": "code",
   "execution_count": 0,
   "metadata": {
    "application/vnd.databricks.v1+cell": {
     "cellMetadata": {
      "byteLimit": 2048000,
      "rowLimit": 10000
     },
     "inputWidgets": {},
     "nuid": "cb179d09-3c96-4559-9eb6-a15282f5c8f8",
     "showTitle": false,
     "tableResultSettingsMap": {},
     "title": ""
    }
   },
   "outputs": [],
   "source": [
    "pr_df.reporting_country"
   ]
  },
  {
   "cell_type": "markdown",
   "metadata": {
    "application/vnd.databricks.v1+cell": {
     "cellMetadata": {
      "byteLimit": 2048000,
      "rowLimit": 10000
     },
     "inputWidgets": {},
     "nuid": "3a956406-18ad-464d-9eae-7605078474c9",
     "showTitle": false,
     "tableResultSettingsMap": {},
     "title": ""
    }
   },
   "source": [
    "##### 99.0 Sandbox"
   ]
  },
  {
   "cell_type": "code",
   "execution_count": 0,
   "metadata": {
    "application/vnd.databricks.v1+cell": {
     "cellMetadata": {
      "byteLimit": 2048000,
      "rowLimit": 10000
     },
     "inputWidgets": {},
     "nuid": "af8151f3-8ec4-4d08-ba7f-58465d0ff932",
     "showTitle": false,
     "tableResultSettingsMap": {},
     "title": ""
    }
   },
   "outputs": [],
   "source": [
    "# Correlation ratio function\n",
    "def correlation_ratio(df, category_col, value_col):\n",
    "\n",
    "    \"\"\"\n",
    "    Calculate the correlation ratio (η²) for a categorical and a continuous variable using pandas.\n",
    "    \n",
    "    Parameters:\n",
    "    - df: pandas DataFrame containing the data\n",
    "    - category_col: str, column name for the categorical variable\n",
    "    - value_col: str, column name for the continuous variable\n",
    "    \n",
    "    Returns:\n",
    "    - eta_squared: float, the correlation ratio\n",
    "    \"\"\"\n",
    "    # Overall mean of the continuous variable\n",
    "    overall_mean = df[value_col].mean()\n",
    "    \n",
    "    # Group by the categorical column and calculate group means and sizes\n",
    "    grouped = df.groupby(category_col)[value_col].agg(['mean', 'count'])\n",
    "    \n",
    "    # Between-group sum of squares\n",
    "    ss_between = ((grouped['count'] * (grouped['mean'] - overall_mean)**2).sum())\n",
    "    \n",
    "    # Total sum of squares\n",
    "    ss_total = ((df[value_col] - overall_mean)**2).sum()\n",
    "    \n",
    "    # Correlation ratio (η²)\n",
    "    eta_squared = ss_between / ss_total\n",
    "    return float(eta_squared**(1/2))\n"
   ]
  },
  {
   "cell_type": "code",
   "execution_count": 0,
   "metadata": {
    "application/vnd.databricks.v1+cell": {
     "cellMetadata": {
      "byteLimit": 2048000,
      "rowLimit": 10000
     },
     "inputWidgets": {},
     "nuid": "5b3f1a9b-1618-4e0e-83a7-42645676d292",
     "showTitle": false,
     "tableResultSettingsMap": {},
     "title": ""
    }
   },
   "outputs": [],
   "source": [
    "test_df = pr_df.assign(super_feature = lambda x: x.main_nature_name + '_' + x.ri_region + '_' + x.lobn1)\n",
    "\n",
    "columns = list(test_df.select_dtypes(include=['object']).columns)\n",
    "correlation_ratio_list = [correlation_ratio(test_df, x, 'log_ultimate_amount_100') for x in columns ]\n",
    "\n",
    "(\n",
    "    pd.DataFrame({'column': columns, 'correlation_ratio': correlation_ratio_list})\n",
    "    .sort_values(by='correlation_ratio', ascending=False)\n",
    "    .pipe(display)\n",
    ")"
   ]
  },
  {
   "cell_type": "code",
   "execution_count": 0,
   "metadata": {
    "application/vnd.databricks.v1+cell": {
     "cellMetadata": {
      "byteLimit": 2048000,
      "rowLimit": 10000
     },
     "inputWidgets": {},
     "nuid": "ffdbf3c1-51c9-4dee-8a38-409d2885d82a",
     "showTitle": false,
     "tableResultSettingsMap": {},
     "title": ""
    }
   },
   "outputs": [],
   "source": [
    "test_df.company_name.value_counts().to_frame().sort_values(by='company_name', ascending=False).head(50).reset_index().rename(columns={'index': 'company_name', 'company_name': 'count'})"
   ]
  },
  {
   "cell_type": "code",
   "execution_count": 0,
   "metadata": {
    "application/vnd.databricks.v1+cell": {
     "cellMetadata": {
      "byteLimit": 2048000,
      "rowLimit": 10000
     },
     "inputWidgets": {},
     "nuid": "95686c7e-0782-4d94-b79b-fb0cde111695",
     "showTitle": false,
     "tableResultSettingsMap": {},
     "title": ""
    }
   },
   "outputs": [],
   "source": [
    "numerical_value = 'log_ultimate_amount_100'\n",
    "\n",
    "df_to_dummify = (\n",
    "    pr_df\n",
    "    .query('uw_year == 2023')\n",
    "    .get(['main_nature_name', 'ri_region', 'lobn1', numerical_value])\n",
    ")\n",
    "\n",
    "numerical_column = df_to_dummify[numerical_value]\n",
    "\n",
    "dummified_df = (\n",
    "    df_to_dummify\n",
    "    .drop(numerical_value, axis =1)\n",
    "    .pipe(pd.get_dummies)\n",
    ")\n",
    "\n",
    "result_df = pd.concat([dummified_df, numerical_column], axis = 1)\n",
    "\n",
    "correlation_ratio_list = [correlation_ratio(result_df, x, numerical_value) for x in dummified_df.columns]\n",
    "\n",
    "pd.DataFrame({'column': dummified_df.columns, 'correlation_ratio': correlation_ratio_list}).sort_values(by='correlation_ratio', ascending=False).pipe(display)"
   ]
  }
 ],
 "metadata": {
  "application/vnd.databricks.v1+notebook": {
   "computePreferences": null,
   "dashboards": [],
   "environmentMetadata": null,
   "language": "python",
   "notebookMetadata": {
    "mostRecentlyExecutedCommandWithImplicitDF": {
     "commandId": 4071004426155650,
     "dataframes": [
      "_sqldf"
     ]
    },
    "pythonIndentUnit": 4
   },
   "notebookName": "master_thesis_eda",
   "widgets": {}
  },
  "language_info": {
   "name": "python"
  }
 },
 "nbformat": 4,
 "nbformat_minor": 0
}